{
 "cells": [
  {
   "cell_type": "markdown",
   "metadata": {},
   "source": [
    "## Remove Duplicates from a SLL"
   ]
  },
  {
   "cell_type": "code",
   "execution_count": 4,
   "metadata": {
    "collapsed": true
   },
   "outputs": [],
   "source": [
    "class Node:\n",
    "    \n",
    "    def __init__(self,data):\n",
    "        '''Node structure'''\n",
    "        self.data = data\n",
    "        self.nextptr = None"
   ]
  },
  {
   "cell_type": "code",
   "execution_count": 7,
   "metadata": {
    "collapsed": true
   },
   "outputs": [],
   "source": [
    "class LinkedList:\n",
    "    \n",
    "    def __init__(self):\n",
    "        self.head = None\n",
    "    \n",
    "    def print_list(self):\n",
    "        '''This method is used to print the Linked List'''\n",
    "        curr_node = self.head\n",
    "        while curr_node:\n",
    "            print(curr_node.data,end=\"->\")\n",
    "            curr_node = curr_node.nextptr\n",
    "        print(\"NULL\")\n",
    "        \n",
    "    def insert_end(self,data):\n",
    "        '''This method will append a node at the end'''\n",
    "        new_node = Node(data)\n",
    "        \n",
    "        if self.head is None: #empty Linked list\n",
    "            self.head = new_node\n",
    "            return\n",
    "        \n",
    "        last_node = self.head\n",
    "        while last_node.nextptr: #while the next doesnt point to Null\n",
    "            last_node = last_node.nextptr\n",
    "        \n",
    "        #after this we are at the end, insert \n",
    "        last_node.nextptr = new_node\n",
    "        \n",
    "    def insert_start(self,data):\n",
    "        '''This method will append a node at the start'''\n",
    "        new_node = Node(data)\n",
    "        new_node.nextptr = self.head\n",
    "        self.head = new_node\n",
    "    \n",
    "    def insert_after_node(self,prev_node,data):\n",
    "        '''This method will insert node after a particular node'''\n",
    "        if not prev_node:\n",
    "            print(\"Previous node not in the list\")\n",
    "            return\n",
    "        \n",
    "        new_node = Node(data)\n",
    "        new_node.nextptr = prev_node.nextptr\n",
    "        prev_node.nextptr = new_node\n",
    "    \n",
    "    def delete_node(self,key):\n",
    "        '''This method is used to delete a node from the LL'''\n",
    "        \n",
    "        curr_node = self.head\n",
    "        \n",
    "        #deleting when node to be deleted is the head \n",
    "        if curr_node and curr_node.data == key:\n",
    "            self.head = curr_node.nextptr\n",
    "            curr_node = None\n",
    "            return\n",
    "        \n",
    "        #deleting when node is not the head \n",
    "        prev_node = None\n",
    "        while curr_node and curr_node.data != key:\n",
    "            prev_node = curr_node\n",
    "            curr_node = curr_node.nextptr\n",
    "        \n",
    "        if curr_node is None: #key not found after iterating till the end\n",
    "            print(\"Node does not exists\")\n",
    "        prev_node.nextptr = curr_node.nextptr\n",
    "        curr_node = None\n",
    "        \n",
    "    def delete_node_at_position(self,position):\n",
    "        '''This method will delete the node at specific position'''\n",
    "        curr_node = self.head\n",
    "\n",
    "        #delete the head\n",
    "        if position == 0:\n",
    "            self.head = curr_node.nextptr\n",
    "            curr_node = None\n",
    "            return\n",
    "\n",
    "        prev_node = None\n",
    "        count=0\n",
    "        while curr_node and count != position:\n",
    "            prev_node = curr_node\n",
    "            curr_node = curr_node.nextptr\n",
    "            count += 1\n",
    "\n",
    "        if curr_node is None:\n",
    "            print(\"Position out of the Range\")\n",
    "            return\n",
    "        \n",
    "        prev_node.nextptr = curr_node.nextptr\n",
    "        curr_node = None\n",
    "        \n",
    "    def len_iterative(self):\n",
    "        '''This method calculates the length of the linked list iteratively'''\n",
    "        count = 0\n",
    "        curr_node = self.head\n",
    "        \n",
    "        while curr_node:\n",
    "            count += 1\n",
    "            curr_node = curr_node.nextptr\n",
    "        return count\n",
    "    \n",
    "    def len_recursive(self,node):\n",
    "        '''This method calculates the length of the linked list recursively'''\n",
    "        if node is None:\n",
    "            return 0\n",
    "        return 1 + self.len_recursive(node.nextptr)\n",
    "    \n",
    "    def remove_duplicates(self):\n",
    "        curr_node = self.head\n",
    "        prev_node = None\n",
    "        \n",
    "        dup_values = dict()\n",
    "        \n",
    "        while curr_node:\n",
    "            if curr_node.data in dup_values:\n",
    "                #Remove node\n",
    "                prev_node.nextptr = curr_node.nextptr\n",
    "                curr_node = None\n",
    "            else:\n",
    "                #Not encountered it before\n",
    "                dup_values[curr_node.data] = 1\n",
    "                prev_node = curr_node\n",
    "            curr_node = prev_node.nextptr"
   ]
  },
  {
   "cell_type": "code",
   "execution_count": 8,
   "metadata": {
    "collapsed": false
   },
   "outputs": [
    {
     "name": "stdout",
     "output_type": "stream",
     "text": [
      "2->3->1->3->5->1->NULL\n"
     ]
    }
   ],
   "source": [
    "llist = LinkedList()\n",
    "llist.insert_start(1)\n",
    "llist.insert_start(5)\n",
    "llist.insert_start(3)\n",
    "llist.insert_start(1)\n",
    "llist.insert_start(3)\n",
    "llist.insert_start(2)\n",
    "llist.print_list()"
   ]
  },
  {
   "cell_type": "code",
   "execution_count": 9,
   "metadata": {
    "collapsed": false
   },
   "outputs": [
    {
     "name": "stdout",
     "output_type": "stream",
     "text": [
      "2->3->1->5->NULL\n"
     ]
    }
   ],
   "source": [
    "llist.remove_duplicates()\n",
    "llist.print_list()"
   ]
  }
 ],
 "metadata": {
  "anaconda-cloud": {},
  "kernelspec": {
   "display_name": "Python [default]",
   "language": "python",
   "name": "python3"
  },
  "language_info": {
   "codemirror_mode": {
    "name": "ipython",
    "version": 3
   },
   "file_extension": ".py",
   "mimetype": "text/x-python",
   "name": "python",
   "nbconvert_exporter": "python",
   "pygments_lexer": "ipython3",
   "version": "3.5.2"
  }
 },
 "nbformat": 4,
 "nbformat_minor": 1
}
